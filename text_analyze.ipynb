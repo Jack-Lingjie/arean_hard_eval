{
 "cells": [
  {
   "cell_type": "code",
   "execution_count": null,
   "metadata": {},
   "outputs": [],
   "source": [
    "import json  \n",
    "  \n",
    "def read_jsonl(file_path):  \n",
    "    \"\"\"  \n",
    "    读取 JSONL 文件中的数据并返回一个包含所有记录的字典列表。  \n",
    "  \n",
    "    参数:  \n",
    "    file_path (str): JSONL 文件的路径。  \n",
    "  \n",
    "    返回:  \n",
    "    list: 包含所有记录的字典列表。  \n",
    "    \"\"\"  \n",
    "    data = []  \n",
    "  \n",
    "    with open(file_path, 'r', encoding='utf-8') as file:  \n",
    "        for line in file:  \n",
    "            # 解析每一行的 JSON 对象并添加到列表中  \n",
    "            data.append(json.loads(line.strip()))  \n",
    "  \n",
    "    return data  \n",
    "    "
   ]
  }
 ],
 "metadata": {
  "language_info": {
   "name": "python"
  }
 },
 "nbformat": 4,
 "nbformat_minor": 2
}
