{
 "cells": [
  {
   "cell_type": "code",
   "execution_count": 4,
   "metadata": {},
   "outputs": [
    {
     "name": "stderr",
     "output_type": "stream",
     "text": [
      "/home/v-lingjiang/miniconda3/envs/eval/lib/python3.10/site-packages/datasets/load.py:1486: FutureWarning: The repository for tatsu-lab/alpaca_eval contains custom code which must be executed to correctly load the dataset. You can inspect the repository content at https://hf.co/datasets/tatsu-lab/alpaca_eval\n",
      "You can avoid this message in future by passing the argument `trust_remote_code=True`.\n",
      "Passing `trust_remote_code=True` will be mandatory to load this dataset from the next major release of `datasets`.\n",
      "  warnings.warn(\n",
      "Downloading builder script: 100%|██████████| 8.09k/8.09k [00:00<00:00, 17.3MB/s]\n",
      "Downloading readme: 100%|██████████| 30.0/30.0 [00:00<00:00, 236kB/s]\n",
      "Downloading data: 100%|██████████| 1.90M/1.90M [00:00<00:00, 9.35MB/s]\n"
     ]
    },
    {
     "name": "stdout",
     "output_type": "stream",
     "text": [
      "/home/v-lingjiang/.cache/huggingface/datasets/downloads/3095d2fe26b995dc4e2403312f614b8d108b424a1e71407bfc88e7e5a90072e3\n"
     ]
    },
    {
     "name": "stderr",
     "output_type": "stream",
     "text": [
      "Generating eval split: 805 examples [00:00, 23344.06 examples/s]\n"
     ]
    },
    {
     "data": {
      "text/plain": [
       "{'instruction': ['What are the names of some famous actors that started their careers on Broadway?',\n",
       "  'How did US states get their names?',\n",
       "  \"Hi, my sister and her girlfriends want me to play kickball with them. Can you explain how the game is played, so they don't take advantage of me?\",\n",
       "  'What is some cool music from the 1920s?',\n",
       "  'How do I wrap a present neatly?',\n",
       "  'How do I dice without slicing my finger',\n",
       "  \"Hi, I'm trying to solve a crossword puzzle, but I've never done one of these before. Can you help me out?\",\n",
       "  'Who is Larry Page?',\n",
       "  'What are different drawers I should have for clothes?',\n",
       "  'I like to host guests at my home from time to time, and I am gathering  recipes of different dishes and drinks to keep things interesting. I am interested in trying some Georgian  dishes. Can you give me a recipe for Kubdari?'],\n",
       " 'output': ['Several famous actors started their careers on Broadway before making it big in film and television. Here are a few notable examples:\\n\\n1. Sarah Jessica Parker - Before she was Carrie Bradshaw on \"Sex and the City,\" Sarah Jessica Parker was a Broadway star, having appeared in productions like \"Annie\" as a child.\\n\\n2. Meryl Streep - Meryl Streep\\'s early career included Broadway productions such as \"Trelawny of the \\'Wells\\'\" and \"A Memory of Two Mondays / 27 Wagons Full of Cotton.\"\\n\\n3. Hugh Jackman - Hugh Jackman won a Tony Award for his role in \"The Boy from Oz\" and has been known for his stage work as well as his film career.\\n\\n4. Sutton Foster - Known for her television role in \"Younger,\" Sutton Foster is also a Broadway legend with leading roles in shows like \"Thoroughly Modern Millie\" and \"Anything Goes.\"\\n\\n5. Kristen Bell - Before she was the voice of Anna in \"Frozen\" or the star of \"The Good Place,\" Kristen Bell appeared in Broadway\\'s \"The Adventures of Tom Sawyer\" and \"The Crucible.\"\\n\\n6. Audra McDonald - Audra McDonald is a renowned Broadway actress with a record-breaking number of Tony Awards. She\\'s starred in \"Ragtime,\" \"Carousel,\" \"Master Class,\" and more.\\n\\n7. Nathan Lane - Nathan Lane is a Broadway veteran known for his roles in \"The Producers,\" \"A Funny Thing Happened on the Way to the Forum,\" and \"Angels in America.\"\\n\\n8. Idina Menzel - Before \"Frozen\" and \"Wicked\" made her a household name, Idina Menzel started on Broadway in shows like \"Rent\" and \"Hair.\"\\n\\n9. Lin-Manuel Miranda - Before \"Hamilton\" and \"In the Heights\" became huge hits, Lin-Manuel Miranda was performing on Broadway, eventually becoming a celebrated writer and actor.\\n\\n10. Lea Michele - Prior to her role on \"Glee,\" Lea Michele was a young Broadway actress in shows like \"Les Misérables,\" \"Ragtime,\" and \"Spring Awakening.\"\\n\\nThese actors are just a few examples of the many performers who have transitioned from the Broadway stage to broader fame in the entertainment industry. Broadway often serves as a proving ground for talent, and many actors continue to return to the stage throughout their careers.',\n",
       "  'The names of U.S. states are derived from a variety of languages and sources, including indigenous American languages, European languages (primarily English, Spanish, and French), as well as other historical influences. Here is a brief overview of how some states got their names:\\n\\n1. **Indigenous American Languages**: Many state names come from Native American words or names of tribes, often from the languages of the indigenous peoples who lived in or near those areas.\\n   - **Alabama**: Possibly derived from the Choctaw language, meaning \"thicket clearers.\"\\n   - **Connecticut**: From a Mohegan-Pequot word meaning \"long tidal river.\"\\n   - **Massachusetts**: Named after the Massachusett tribe; the name means \"at or about the great hill.\"\\n\\n2. **Spanish**: Some state names come from Spanish explorers and settlers.\\n   - **California**: Possibly named after a mythical island in a Spanish novel, \"Las sergas de Esplandián\" by Garci Rodríguez de Montalvo.\\n   - **Colorado**: Named after the Colorado River, which in turn was named for its red-colored silt, from Spanish \"colorado\" meaning \"colored red.\"\\n   - **Florida**: Named by Spanish explorer Juan Ponce de León in 1513, \"Pascua Florida\" refers to the \"feast of the flowers\" (Easter) and the verdant landscape.\\n\\n3. **French**: Some states have names derived from French explorers and settlers or from French interpretations of Native American words.\\n   - **Louisiana**: Named in honor of King Louis XIV of France.\\n   - **Vermont**: From the French \"vert mont,\" meaning \"green mountain.\"\\n\\n4. **English**: Many states have names that are either directly taken from places in England or are English translations or adaptations of Native American names.\\n   - **New York**: Named after the Duke of York (later King James II of England), when the English took it from the Dutch who called it New Amsterdam.\\n   - **Virginia**: Named after Queen Elizabeth I of England, the \"Virgin Queen.\"\\n\\n5. **Other European Languages**: A few state names have origins in other European languages due to the influence of various European settlers and explorers.\\n   - **Illinois**: French adaptation of an Algonquin word meaning \"tribe of superior men.\"\\n   - **Minnesota**: From the Dakota Sioux word \"mnisota,\" meaning \"cloudy water\" or \"sky-tinted water.\"\\n\\n6. **Latin or Greek**: Some names are derived from Latin or Greek words or roots.\\n   - **Pennsylvania**: Named by William Penn after his father and means \"Penn\\'s woods\" in Latin.\\n\\n7. **Place Names and Royalty**: Some states are named after monarchs or other places.\\n   - **Georgia**: Named in honor of King George II of Great Britain.\\n   - **Maryland**: Named in honor of Queen Henrietta Maria, the wife of King Charles I of England.\\n\\n8. **Combination of Languages and Influences**: Some state names are a blend of influences from different languages or are adaptations that have transformed over time due to usage and pronunciation.\\n   - **Arkansas**: Named after the French plural of a Quapaw word \"akakaze\" meaning \"land of downriver people.\"\\n\\n9. **Geographical Features**: Some states are named after prominent geographical features.\\n   - **Indiana**: Meaning \"land of the Indians.\"\\n   - **Tennessee**: Likely derived from a Cherokee village name \"Tanasi.\"\\n\\nKeep in mind this is not an exhaustive list, and many of the origins can be more complex, with different theories about their etymology.',\n",
       "  \"Kickball is a fun and simple game that is similar to baseball or softball, but instead of hitting a ball with a bat, players kick a rubber ball. Here's how the game is typically played:\\n\\n**Equipment and Setup:**\\n- A large rubber ball (similar to a playground ball).\\n- A field with four bases arranged like a diamond (home plate, first base, second base, third base).\\n- Teams can vary in size, but 8 to 11 players per team is common.\\n\\n**Objective:**\\nThe objective of kickball is to score more runs than the opposing team by kicking the ball and running around the bases to reach home plate.\\n\\n**Basic Rules:**\\n1. **Teams:** There are two teams – the kicking team and the fielding team. The teams switch roles after each inning.\\n\\n2. **Kicking Order:** The kicking team has a lineup that determines the order in which players kick the ball.\\n\\n3. **Pitching:** The pitcher from the fielding team rolls the ball towards home plate. The ball must be rolled smoothly (no bouncing) and within reach of the kicker.\\n\\n4. **Kicking:** The kicker attempts to kick the ball and then run to at least first base. The kicker must kick the ball within the kicking box (an area including and surrounding home plate).\\n\\n5. **Outs:** A player can be put out in several ways, similar to baseball:\\n   - **Catch:** If the fielding team catches the ball in the air after it has been kicked (before it touches the ground), the kicker is out.\\n   - **Tag:** If a fielder tags a runner with the ball while the runner is not on a base, the runner is out.\\n   - **Force Out:** If a fielder has control of the ball and touches the base that a runner is forced to run to before the runner gets there (similar to a force out in baseball), the runner is out.\\n   - **Strikeouts:** A kicker can also strike out if they miss the ball three times or if they kick the ball foul on the third strike.\\n\\n6. **Running the Bases:** After kicking the ball, the runner attempts to safely reach a base. Runners can be tagged out by the fielding team or forced out when the fielding team tags the base ahead of the runner.\\n\\n7. **Scoring Runs:** A run is scored when a runner successfully kicks the ball and then touches all four bases in order, ending at home plate.\\n\\n8. **Innings:** An inning consists of both teams having a turn to kick and field. Each team's turn continues until they get three outs, after which the other team gets to kick.\\n\\n9. **Foul Balls:** A kick that lands in foul territory (outside the first or third-base lines) is considered a foul ball. Two fouls count as a strike, and a third foul may result in a strikeout, depending on the rules you are playing with.\\n\\n10. **Game Length:** The game typically lasts for a set number of innings (often five or seven) or until a time limit is reached.\\n\\nRemember that kickball is often played casually, and the rules can vary depending on the group you're playing with. Make sure to clarify any specific rules with your sister and her friends before you start playing. Most importantly, have fun and enjoy the game!\",\n",
       "  'The 1920s, often referred to as the \"Roaring Twenties,\" was a period that saw a significant explosion in the popularity of jazz and the beginning of widespread commercial recording. Here are some influential artists and songs from that era:\\n\\n1. **Louis Armstrong**: Known as \"Satchmo\" or \"Pops,\" Armstrong was one of the most influential figures in jazz music. His innovative approach to playing the trumpet and his scat singing style were highly influential. Notable recordings include \"West End Blues\" and \"Heebie Jeebies.\"\\n\\n2. **Bessie Smith**: Dubbed the \"Empress of the Blues,\" Smith was the most popular female blues singer of the decade. Her powerful voice and emotive style brought her great fame. Songs like \"Downhearted Blues\" and \"St. Louis Blues\" were among her biggest hits.\\n\\n3. **Duke Ellington**: A pivotal bandleader and composer in jazz, Ellington led his orchestra at the Cotton Club in Harlem. Some of his notable compositions from the 1920s include \"Black and Tan Fantasy\" and \"Mood Indigo.\"\\n\\n4. **Jelly Roll Morton**: A pianist and composer, Morton claimed to be the inventor of jazz. Whether or not that\\'s true, his influence on the genre is undeniable. His recordings with the Red Hot Peppers, like \"King Porter Stomp\" and \"Black Bottom Stomp,\" are classics.\\n\\n5. **George Gershwin**: Gershwin was a composer who bridged the gap between classical music and jazz. His 1924 composition \"Rhapsody in Blue\" is one of the most famous pieces of American music from the 20th century.\\n\\n6. **Paul Whiteman**: Known as the \"King of Jazz,\" Whiteman led one of the most popular dance bands of the 1920s. His orchestra\\'s recording of Gershwin\\'s \"Rhapsody in Blue\" with Gershwin at the piano was a huge hit.\\n\\n7. **The Original Dixieland Jass Band**: Often credited with making the first jazz recordings in 1917, they continued to be popular through the 1920s with songs like \"Dixie Jass Band One-Step\" and \"Tiger Rag.\"\\n\\n8. **Ma Rainey**: Another significant blues singer of the era, known as the \"Mother of the Blues,\" her powerful voice and charismatic performances made her a key figure of the blues. Songs like \"See See Rider\" and \"Ma Rainey\\'s Black Bottom\" were popular.\\n\\n9. **Fletcher Henderson**: As a bandleader and arranger, Henderson was influential in the development of big band jazz. His band was one of the top African American bands of the 1920s.\\n\\n10. **Ethel Waters**: She was a blues, jazz, and gospel vocalist who became one of the first African American women to be recorded. \"Stormy Weather\" is one of her most enduring hits, although it was released just slightly later, in 1933.\\n\\nThis list is just a starting point, as the 1920s were a rich period for music, with various styles emerging and evolving. The era\\'s sound was characterized by the advent of new recording technologies, the rise of radio broadcasting, and the speakeasy culture during Prohibition in the United States.',\n",
       "  \"Wrapping a present neatly can be quite straightforward with a little practice. Here's a step-by-step guide:\\n\\n### Materials Needed:\\n- Wrapping paper\\n- Scissors\\n- Clear tape\\n- The gift to be wrapped\\n- Ribbon or bow (optional)\\n- Gift tag (optional)\\n\\n### Instructions:\\n\\n1. **Measure the Paper**:\\n   - Place the gift on the wrapping paper to measure how much you'll need. You want enough paper to cover the item completely with a little overlap.\\n   - Ensure that the paper is long enough to go around the gift with about 2 inches (5 cm) of overlap.\\n   - Make sure there's enough paper to cover the ends of the present with extra to fold and tape.\\n\\n2. **Cut the Paper**:\\n   - Cut the wrapping paper along a straight line. You can use the grid lines on the back of the paper as a guide if available.\\n\\n3. **Center the Gift**:\\n   - Place your gift face down on the wrapping paper. This way, the seam of the paper will be on the bottom of the present.\\n\\n4. **Wrap the Paper Around the Gift**:\\n   - Bring the paper around the gift so that it's completely covered.\\n   - Pull the paper taut, but be careful not to tear it.\\n   - Tape one edge of the paper to the box, then pull the other edge over it to create a seam along the center of the bottom of the box. Tape it down.\\n\\n5. **Fold the Ends**:\\n   - At one end of the box, push the sides of the paper inward, creating two flaps and a triangle at the top and bottom.\\n   - Fold down the top triangular flap, creasing well, then fold up the bottom triangle. This should create a neat edge.\\n   - Secure with tape. Repeat on the other end.\\n\\n6. **Final Touches**:\\n   - If there are any untidy edges or corners, you can fold them neatly and secure them with a small piece of tape.\\n   - Add a ribbon or bow on top for decoration, and attach a gift tag if needed.\\n\\n### Tips for a Neat Wrap:\\n- Use double-sided tape to avoid visible tape lines for a cleaner look.\\n- Keep your folds sharp by creasing them with your fingers or the edge of a ruler.\\n- If your wrapping paper is wrinkled, you can lightly iron it on a low setting to smooth it out (make sure the paper is iron-safe).\\n- Practice makes perfect. Your first few attempts might not be perfect, but you'll improve with each gift you wrap.\\n\\nBy following these steps, you should be able to neatly wrap your present and give it that professional-looking touch.\",\n",
       "  \"Dicing without slicing your fingers involves proper knife handling and cutting technique. Here's a step-by-step guide to dicing safely:\\n\\n1. **Choose the Right Knife**: A sharp chef's knife is typically the best choice for dicing. Make sure it's sharp; a dull knife can slip and is more dangerous.\\n\\n2. **Cutting Board**: Use a stable cutting board. If it slides around, place a damp paper towel or a non-slip mat underneath it.\\n\\n3. **Knife Grip**: Hold the knife properly. Grip the handle with your dominant hand, with your thumb and forefinger on opposite sides of the blade's base for control.\\n\\n4. **Finger Position (Claw Grip)**: Curl the fingers of your non-dominant hand into a claw-like position, tucking your fingertips away from the blade. Use your knuckles as a guide for the knife, which helps keep your fingers safe.\\n\\n5. **Stabilize the Food**: If you're cutting something round like a potato or an onion, slice a small piece off to create a flat surface. Lay the flat side down to keep the food stable.\\n\\n6. **The Cutting Motion**: Use a rolling motion, pivoting the knife up and down with the tip of the knife remaining on the cutting board. The knife should move up and down while you push the food underneath the blade with your non-dominant hand.\\n\\n7. **Consistent Cuts**: Make parallel cuts first, then stack or line the slices up to make perpendicular cuts to create cubes.\\n\\n8. **Take Your Time**: Don't rush. Speed comes with practice and confidence. Start slowly to ensure you maintain control of the knife and the food.\\n\\n9. **Keep Your Eye on the Blade**: Always watch the blade as you cut. Distractions can lead to accidents.\\n\\n10. **Clean Workspace**: After each dicing task, move the diced pieces away from the cutting area to avoid clutter, which can lead to accidents.\\n\\n11. **Knife Maintenance**: Regularly hone your knife to keep it sharp and perform maintenance sharpening or have it done professionally when needed.\\n\\n12. **Practice**: With practice, your technique will improve, making it safer and more efficient.\\n\\nRemember, even with proper technique, accidents can happen, so always stay focused while using a knife. If you're new to cooking or uncomfortable with your knife skills, consider taking a basic cooking class that includes knife skills training.\",\n",
       "  \"Absolutely! I'd be delighted to help you with your crossword puzzle. Just tell me the clues and the number of letters needed for each answer (and any letters you may have already filled in), and I'll do my best to help you find the solutions. If you have any specific questions about how to approach solving crossword puzzles in general, feel free to ask those as well!\",\n",
       "  'Larry Page is an American computer scientist and Internet entrepreneur who co-founded Google with Sergey Brin. Page was born on March 26, 1973, in East Lansing, Michigan, and attended the University of Michigan for his undergraduate studies. He later obtained a Master of Science degree in computer science from Stanford University, where he met Brin.\\n\\nIn 1996, while working on a research project as Ph.D. students at Stanford, Page and Brin developed the PageRank algorithm, which became the foundation for Google\\'s search engine. This algorithm was revolutionary because it ranked web pages based on their importance, determined by the number and quality of links pointing to them.\\n\\nPage served as the first CEO of Google until 2001 and then again from 2011 to 2015. During his leadership, Google became one of the world\\'s most valuable companies, offering a wide range of products and services beyond its original search engine, including advertising services, consumer electronics, and cloud computing.\\n\\nIn 2015, Page became the CEO of Alphabet Inc., Google\\'s parent company, which was created as part of a corporate restructuring to make the tech giant\\'s activities more manageable and transparent. He stepped down from the role in December 2019 but remains a board member and a controlling shareholder.\\n\\nLarry Page is also known for his investments and interest in other technological frontiers, such as renewable energy, flying cars, and space exploration. He has been involved with and provided funding for a number of \"moonshot\" projects, some of which are carried out through Alphabet\\'s X (formerly Google X) lab.',\n",
       "  \"The types of drawers you should have for clothes depend on your personal wardrobe and the space you have available. However, here's a general guide for categorizing different types of clothing into drawers:\\n\\n1. **Undergarments Drawer**: This drawer is for your underwear, bras, socks, and hosiery. Some people prefer to separate these further, with a drawer specifically for bras and another for underwear and socks.\\n\\n2. **T-shirts and Casual Tops Drawer**: A drawer for casual wear such as t-shirts, tank tops, and other everyday shirts can help keep your casual wear organized and easily accessible.\\n\\n3. **Pajamas and Lounge Wear Drawer**: This drawer is for your pajamas, nightgowns, and lounge wear, including comfy shorts and sweatpants.\\n\\n4. **Activewear and Gym Clothes Drawer**: If you work out regularly, it's helpful to have a drawer dedicated to gym clothes, sports bras, workout t-shirts, leggings, and shorts.\\n\\n5. **Jeans and Casual Pants Drawer**: Designate a drawer for your jeans, casual pants, and other heavier items that can be folded without concern for wrinkles.\\n\\n6. **Sweaters and Knits Drawer**: Sweaters, cardigans, and knitted tops should have their own drawer. It’s often recommended to fold knitted garments to prevent them from stretching out on hangers.\\n\\n7. **Dress Shirts and Blouses Drawer**: For more formal or wrinkle-prone tops, you may want a separate drawer. Some may prefer to hang these items instead if space allows.\\n\\n8. **Shorts and Skirts Drawer**: If you have a collection of shorts and skirts, these can go together in a drawer. You might separate them by length or occasion (casual vs. dressy).\\n\\n9. **Accessories Drawer**: For belts, scarves, and other small accessories, a drawer with dividers can be very useful to keep these items from becoming tangled or lost.\\n\\n10. **Seasonal Drawer**: Depending on the climate you live in, you might have a drawer for seasonal items that you only wear at certain times of the year, such as swimwear or heavy thermal clothing.\\n\\nRemember that these are just suggestions, and the best setup for you will depend on what types of clothing you own and how much of each type you have. If you have a smaller wardrobe, you may combine categories into a single drawer. Conversely, if you have a large collection of a particular type of clothing, it may require multiple drawers. Drawer dividers or organizers can be very helpful in keeping items separate and easy to find within each drawer.\",\n",
       "  'Certainly! Kubdari (sometimes spelled as \"kubedari\") is a traditional dish from the Svaneti region of Georgia, known for its rich and spiced meat filling encased in a hearty bread. It\\'s similar to a meat pie and is traditionally filled with either beef, pork, or a combination of both, along with a unique blend of Georgian spices. Here\\'s how to make Kubdari:\\n\\n### Ingredients:\\n\\n#### For the Dough:\\n- 500 g (4 cups) all-purpose flour, plus extra for dusting\\n- 250 ml (1 cup) warm water\\n- 7 g (1 packet) active dry yeast\\n- 1 teaspoon sugar\\n- 1 teaspoon salt\\n- 2 tablespoons vegetable oil\\n\\n#### For the Filling:\\n- 500 g (1 lb) beef and/or pork, ground or finely chopped\\n- 2 onions, finely chopped\\n- 3 cloves of garlic, minced\\n- 1 bunch of fresh cilantro (coriander), finely chopped\\n- 1 teaspoon ground coriander\\n- 1 teaspoon ground blue fenugreek (utskho suneli, if available)\\n- 1/2 teaspoon ground cumin\\n- 1/2 teaspoon ground red pepper or chili flakes (adjust to taste)\\n- Salt and black pepper to taste\\n\\n### Instructions:\\n\\n#### Prepare the Dough:\\n1. In a small bowl, dissolve the sugar and yeast in the warm water and let it sit for about 10 minutes until it becomes frothy.\\n2. In a large mixing bowl, combine the flour and salt.\\n3. Add the yeasty water to the flour mixture along with the vegetable oil and mix until a dough begins to form.\\n4. Turn the dough out onto a floured surface and knead for about 7-10 minutes until it\\'s smooth and elastic.\\n5. Place the dough back in the bowl, cover with a clean towel, and let it rise in a warm place for about 1-1.5 hours, or until it has doubled in size.\\n\\n#### Prepare the Filling:\\n1. In a large mixing bowl, combine the ground meat, onions, garlic, cilantro, and spices. Mix thoroughly by hand to ensure the spices are well distributed. Season with salt and pepper to taste.\\n2. Let the mixture marinate while the dough is rising to allow the flavors to meld.\\n\\n#### Assemble and Cook the Kubdari:\\n1. Once the dough has risen, punch it down and divide it into equal portions (typically 4 to 6, depending on the desired size of your kubdari).\\n2. Roll each portion into a ball and then use a rolling pin to flatten each ball into a circle about 1/4-inch thick.\\n3. Place a portion of the meat filling in the center of each dough circle, leaving a margin around the edges.\\n4. Fold the edges of the dough over the filling, pinching them together to seal and then gently flatten the pie into a circular shape, being careful not to let the filling break through the dough.\\n5. Preheat a heavy-bottomed pan or a cast-iron skillet over medium heat. You can also use an oven preheated to 200°C (400°F).\\n6. Cook each kubdari for about 4-5 minutes on each side until the bread is golden brown and the meat is cooked through. If using an oven, bake for about 20-25 minutes, or until golden brown.\\n7. Once cooked, you can brush the kubdari with butter for extra flavor and softness.\\n\\nAllow the kubdari to cool slightly before serving. Kubdari is typically served hot and can be enjoyed on its own or with a side of pickles or a fresh salad. Enjoy your homemade Georgian feast!'],\n",
       " 'generator': ['gpt4_1106_preview',\n",
       "  'gpt4_1106_preview',\n",
       "  'gpt4_1106_preview',\n",
       "  'gpt4_1106_preview',\n",
       "  'gpt4_1106_preview',\n",
       "  'gpt4_1106_preview',\n",
       "  'gpt4_1106_preview',\n",
       "  'gpt4_1106_preview',\n",
       "  'gpt4_1106_preview',\n",
       "  'gpt4_1106_preview'],\n",
       " 'dataset': ['helpful_base',\n",
       "  'helpful_base',\n",
       "  'helpful_base',\n",
       "  'helpful_base',\n",
       "  'helpful_base',\n",
       "  'helpful_base',\n",
       "  'helpful_base',\n",
       "  'helpful_base',\n",
       "  'helpful_base',\n",
       "  'helpful_base']}"
      ]
     },
     "execution_count": 4,
     "metadata": {},
     "output_type": "execute_result"
    }
   ],
   "source": [
    "from datasets import load_dataset\n",
    "def get_alpaca_eval_data(dataset=\"alpaca_eval_gpt4_baseline\"):\n",
    "    dataset = load_dataset(\n",
    "        \"tatsu-lab/alpaca_eval\",\n",
    "        dataset,\n",
    "    )[\"eval\"]\n",
    "    return dataset\n",
    "alpaca_eval = get_alpaca_eval_data()\n",
    "def add_index(example, idx):  \n",
    "    example['index'] = idx  \n",
    "    return example  \n",
    "dataset = alpaca_eval.map(add_index, with_indices=True) "
   ]
  },
  {
   "cell_type": "code",
   "execution_count": 13,
   "metadata": {},
   "outputs": [
    {
     "data": {
      "text/plain": [
       "{'instruction': ['What are the names of some famous actors that started their careers on Broadway?',\n",
       "  'How did US states get their names?',\n",
       "  \"Hi, my sister and her girlfriends want me to play kickball with them. Can you explain how the game is played, so they don't take advantage of me?\",\n",
       "  'What is some cool music from the 1920s?'],\n",
       " 'output': ['Several famous actors started their careers on Broadway before making it big in film and television. Here are a few notable examples:\\n\\n1. Sarah Jessica Parker - Before she was Carrie Bradshaw on \"Sex and the City,\" Sarah Jessica Parker was a Broadway star, having appeared in productions like \"Annie\" as a child.\\n\\n2. Meryl Streep - Meryl Streep\\'s early career included Broadway productions such as \"Trelawny of the \\'Wells\\'\" and \"A Memory of Two Mondays / 27 Wagons Full of Cotton.\"\\n\\n3. Hugh Jackman - Hugh Jackman won a Tony Award for his role in \"The Boy from Oz\" and has been known for his stage work as well as his film career.\\n\\n4. Sutton Foster - Known for her television role in \"Younger,\" Sutton Foster is also a Broadway legend with leading roles in shows like \"Thoroughly Modern Millie\" and \"Anything Goes.\"\\n\\n5. Kristen Bell - Before she was the voice of Anna in \"Frozen\" or the star of \"The Good Place,\" Kristen Bell appeared in Broadway\\'s \"The Adventures of Tom Sawyer\" and \"The Crucible.\"\\n\\n6. Audra McDonald - Audra McDonald is a renowned Broadway actress with a record-breaking number of Tony Awards. She\\'s starred in \"Ragtime,\" \"Carousel,\" \"Master Class,\" and more.\\n\\n7. Nathan Lane - Nathan Lane is a Broadway veteran known for his roles in \"The Producers,\" \"A Funny Thing Happened on the Way to the Forum,\" and \"Angels in America.\"\\n\\n8. Idina Menzel - Before \"Frozen\" and \"Wicked\" made her a household name, Idina Menzel started on Broadway in shows like \"Rent\" and \"Hair.\"\\n\\n9. Lin-Manuel Miranda - Before \"Hamilton\" and \"In the Heights\" became huge hits, Lin-Manuel Miranda was performing on Broadway, eventually becoming a celebrated writer and actor.\\n\\n10. Lea Michele - Prior to her role on \"Glee,\" Lea Michele was a young Broadway actress in shows like \"Les Misérables,\" \"Ragtime,\" and \"Spring Awakening.\"\\n\\nThese actors are just a few examples of the many performers who have transitioned from the Broadway stage to broader fame in the entertainment industry. Broadway often serves as a proving ground for talent, and many actors continue to return to the stage throughout their careers.',\n",
       "  'The names of U.S. states are derived from a variety of languages and sources, including indigenous American languages, European languages (primarily English, Spanish, and French), as well as other historical influences. Here is a brief overview of how some states got their names:\\n\\n1. **Indigenous American Languages**: Many state names come from Native American words or names of tribes, often from the languages of the indigenous peoples who lived in or near those areas.\\n   - **Alabama**: Possibly derived from the Choctaw language, meaning \"thicket clearers.\"\\n   - **Connecticut**: From a Mohegan-Pequot word meaning \"long tidal river.\"\\n   - **Massachusetts**: Named after the Massachusett tribe; the name means \"at or about the great hill.\"\\n\\n2. **Spanish**: Some state names come from Spanish explorers and settlers.\\n   - **California**: Possibly named after a mythical island in a Spanish novel, \"Las sergas de Esplandián\" by Garci Rodríguez de Montalvo.\\n   - **Colorado**: Named after the Colorado River, which in turn was named for its red-colored silt, from Spanish \"colorado\" meaning \"colored red.\"\\n   - **Florida**: Named by Spanish explorer Juan Ponce de León in 1513, \"Pascua Florida\" refers to the \"feast of the flowers\" (Easter) and the verdant landscape.\\n\\n3. **French**: Some states have names derived from French explorers and settlers or from French interpretations of Native American words.\\n   - **Louisiana**: Named in honor of King Louis XIV of France.\\n   - **Vermont**: From the French \"vert mont,\" meaning \"green mountain.\"\\n\\n4. **English**: Many states have names that are either directly taken from places in England or are English translations or adaptations of Native American names.\\n   - **New York**: Named after the Duke of York (later King James II of England), when the English took it from the Dutch who called it New Amsterdam.\\n   - **Virginia**: Named after Queen Elizabeth I of England, the \"Virgin Queen.\"\\n\\n5. **Other European Languages**: A few state names have origins in other European languages due to the influence of various European settlers and explorers.\\n   - **Illinois**: French adaptation of an Algonquin word meaning \"tribe of superior men.\"\\n   - **Minnesota**: From the Dakota Sioux word \"mnisota,\" meaning \"cloudy water\" or \"sky-tinted water.\"\\n\\n6. **Latin or Greek**: Some names are derived from Latin or Greek words or roots.\\n   - **Pennsylvania**: Named by William Penn after his father and means \"Penn\\'s woods\" in Latin.\\n\\n7. **Place Names and Royalty**: Some states are named after monarchs or other places.\\n   - **Georgia**: Named in honor of King George II of Great Britain.\\n   - **Maryland**: Named in honor of Queen Henrietta Maria, the wife of King Charles I of England.\\n\\n8. **Combination of Languages and Influences**: Some state names are a blend of influences from different languages or are adaptations that have transformed over time due to usage and pronunciation.\\n   - **Arkansas**: Named after the French plural of a Quapaw word \"akakaze\" meaning \"land of downriver people.\"\\n\\n9. **Geographical Features**: Some states are named after prominent geographical features.\\n   - **Indiana**: Meaning \"land of the Indians.\"\\n   - **Tennessee**: Likely derived from a Cherokee village name \"Tanasi.\"\\n\\nKeep in mind this is not an exhaustive list, and many of the origins can be more complex, with different theories about their etymology.',\n",
       "  \"Kickball is a fun and simple game that is similar to baseball or softball, but instead of hitting a ball with a bat, players kick a rubber ball. Here's how the game is typically played:\\n\\n**Equipment and Setup:**\\n- A large rubber ball (similar to a playground ball).\\n- A field with four bases arranged like a diamond (home plate, first base, second base, third base).\\n- Teams can vary in size, but 8 to 11 players per team is common.\\n\\n**Objective:**\\nThe objective of kickball is to score more runs than the opposing team by kicking the ball and running around the bases to reach home plate.\\n\\n**Basic Rules:**\\n1. **Teams:** There are two teams – the kicking team and the fielding team. The teams switch roles after each inning.\\n\\n2. **Kicking Order:** The kicking team has a lineup that determines the order in which players kick the ball.\\n\\n3. **Pitching:** The pitcher from the fielding team rolls the ball towards home plate. The ball must be rolled smoothly (no bouncing) and within reach of the kicker.\\n\\n4. **Kicking:** The kicker attempts to kick the ball and then run to at least first base. The kicker must kick the ball within the kicking box (an area including and surrounding home plate).\\n\\n5. **Outs:** A player can be put out in several ways, similar to baseball:\\n   - **Catch:** If the fielding team catches the ball in the air after it has been kicked (before it touches the ground), the kicker is out.\\n   - **Tag:** If a fielder tags a runner with the ball while the runner is not on a base, the runner is out.\\n   - **Force Out:** If a fielder has control of the ball and touches the base that a runner is forced to run to before the runner gets there (similar to a force out in baseball), the runner is out.\\n   - **Strikeouts:** A kicker can also strike out if they miss the ball three times or if they kick the ball foul on the third strike.\\n\\n6. **Running the Bases:** After kicking the ball, the runner attempts to safely reach a base. Runners can be tagged out by the fielding team or forced out when the fielding team tags the base ahead of the runner.\\n\\n7. **Scoring Runs:** A run is scored when a runner successfully kicks the ball and then touches all four bases in order, ending at home plate.\\n\\n8. **Innings:** An inning consists of both teams having a turn to kick and field. Each team's turn continues until they get three outs, after which the other team gets to kick.\\n\\n9. **Foul Balls:** A kick that lands in foul territory (outside the first or third-base lines) is considered a foul ball. Two fouls count as a strike, and a third foul may result in a strikeout, depending on the rules you are playing with.\\n\\n10. **Game Length:** The game typically lasts for a set number of innings (often five or seven) or until a time limit is reached.\\n\\nRemember that kickball is often played casually, and the rules can vary depending on the group you're playing with. Make sure to clarify any specific rules with your sister and her friends before you start playing. Most importantly, have fun and enjoy the game!\",\n",
       "  'The 1920s, often referred to as the \"Roaring Twenties,\" was a period that saw a significant explosion in the popularity of jazz and the beginning of widespread commercial recording. Here are some influential artists and songs from that era:\\n\\n1. **Louis Armstrong**: Known as \"Satchmo\" or \"Pops,\" Armstrong was one of the most influential figures in jazz music. His innovative approach to playing the trumpet and his scat singing style were highly influential. Notable recordings include \"West End Blues\" and \"Heebie Jeebies.\"\\n\\n2. **Bessie Smith**: Dubbed the \"Empress of the Blues,\" Smith was the most popular female blues singer of the decade. Her powerful voice and emotive style brought her great fame. Songs like \"Downhearted Blues\" and \"St. Louis Blues\" were among her biggest hits.\\n\\n3. **Duke Ellington**: A pivotal bandleader and composer in jazz, Ellington led his orchestra at the Cotton Club in Harlem. Some of his notable compositions from the 1920s include \"Black and Tan Fantasy\" and \"Mood Indigo.\"\\n\\n4. **Jelly Roll Morton**: A pianist and composer, Morton claimed to be the inventor of jazz. Whether or not that\\'s true, his influence on the genre is undeniable. His recordings with the Red Hot Peppers, like \"King Porter Stomp\" and \"Black Bottom Stomp,\" are classics.\\n\\n5. **George Gershwin**: Gershwin was a composer who bridged the gap between classical music and jazz. His 1924 composition \"Rhapsody in Blue\" is one of the most famous pieces of American music from the 20th century.\\n\\n6. **Paul Whiteman**: Known as the \"King of Jazz,\" Whiteman led one of the most popular dance bands of the 1920s. His orchestra\\'s recording of Gershwin\\'s \"Rhapsody in Blue\" with Gershwin at the piano was a huge hit.\\n\\n7. **The Original Dixieland Jass Band**: Often credited with making the first jazz recordings in 1917, they continued to be popular through the 1920s with songs like \"Dixie Jass Band One-Step\" and \"Tiger Rag.\"\\n\\n8. **Ma Rainey**: Another significant blues singer of the era, known as the \"Mother of the Blues,\" her powerful voice and charismatic performances made her a key figure of the blues. Songs like \"See See Rider\" and \"Ma Rainey\\'s Black Bottom\" were popular.\\n\\n9. **Fletcher Henderson**: As a bandleader and arranger, Henderson was influential in the development of big band jazz. His band was one of the top African American bands of the 1920s.\\n\\n10. **Ethel Waters**: She was a blues, jazz, and gospel vocalist who became one of the first African American women to be recorded. \"Stormy Weather\" is one of her most enduring hits, although it was released just slightly later, in 1933.\\n\\nThis list is just a starting point, as the 1920s were a rich period for music, with various styles emerging and evolving. The era\\'s sound was characterized by the advent of new recording technologies, the rise of radio broadcasting, and the speakeasy culture during Prohibition in the United States.'],\n",
       " 'generator': ['gpt4_1106_preview',\n",
       "  'gpt4_1106_preview',\n",
       "  'gpt4_1106_preview',\n",
       "  'gpt4_1106_preview'],\n",
       " 'dataset': ['helpful_base', 'helpful_base', 'helpful_base', 'helpful_base']}"
      ]
     },
     "execution_count": 13,
     "metadata": {},
     "output_type": "execute_result"
    }
   ],
   "source": [
    "alpaca_eval[:4]"
   ]
  },
  {
   "cell_type": "code",
   "execution_count": 10,
   "metadata": {},
   "outputs": [
    {
     "name": "stdout",
     "output_type": "stream",
     "text": [
      "{'instruction': 'What are the names of some famous actors that started their careers on Broadway?', 'output': 'Several famous actors started their careers on Broadway before making it big in film and television. Here are a few notable examples:\\n\\n1. Sarah Jessica Parker - Before she was Carrie Bradshaw on \"Sex and the City,\" Sarah Jessica Parker was a Broadway star, having appeared in productions like \"Annie\" as a child.\\n\\n2. Meryl Streep - Meryl Streep\\'s early career included Broadway productions such as \"Trelawny of the \\'Wells\\'\" and \"A Memory of Two Mondays / 27 Wagons Full of Cotton.\"\\n\\n3. Hugh Jackman - Hugh Jackman won a Tony Award for his role in \"The Boy from Oz\" and has been known for his stage work as well as his film career.\\n\\n4. Sutton Foster - Known for her television role in \"Younger,\" Sutton Foster is also a Broadway legend with leading roles in shows like \"Thoroughly Modern Millie\" and \"Anything Goes.\"\\n\\n5. Kristen Bell - Before she was the voice of Anna in \"Frozen\" or the star of \"The Good Place,\" Kristen Bell appeared in Broadway\\'s \"The Adventures of Tom Sawyer\" and \"The Crucible.\"\\n\\n6. Audra McDonald - Audra McDonald is a renowned Broadway actress with a record-breaking number of Tony Awards. She\\'s starred in \"Ragtime,\" \"Carousel,\" \"Master Class,\" and more.\\n\\n7. Nathan Lane - Nathan Lane is a Broadway veteran known for his roles in \"The Producers,\" \"A Funny Thing Happened on the Way to the Forum,\" and \"Angels in America.\"\\n\\n8. Idina Menzel - Before \"Frozen\" and \"Wicked\" made her a household name, Idina Menzel started on Broadway in shows like \"Rent\" and \"Hair.\"\\n\\n9. Lin-Manuel Miranda - Before \"Hamilton\" and \"In the Heights\" became huge hits, Lin-Manuel Miranda was performing on Broadway, eventually becoming a celebrated writer and actor.\\n\\n10. Lea Michele - Prior to her role on \"Glee,\" Lea Michele was a young Broadway actress in shows like \"Les Misérables,\" \"Ragtime,\" and \"Spring Awakening.\"\\n\\nThese actors are just a few examples of the many performers who have transitioned from the Broadway stage to broader fame in the entertainment industry. Broadway often serves as a proving ground for talent, and many actors continue to return to the stage throughout their careers.', 'generator': 'gpt4_1106_preview', 'dataset': 'helpful_base', 'index': 0}\n"
     ]
    }
   ],
   "source": [
    "# 定义一个函数来添加索引  \n",
    "def add_index(example, idx):  \n",
    "    example['index'] = idx  \n",
    "    return example  \n",
    "dataset = alpaca_eval.map(add_index, with_indices=True) \n",
    "print(dataset[0])  # 打印第一行  "
   ]
  },
  {
   "cell_type": "code",
   "execution_count": 14,
   "metadata": {},
   "outputs": [
    {
     "data": {
      "text/plain": [
       "{'instruction': 'What are the names of some famous actors that started their careers on Broadway?',\n",
       " 'output': 'Several famous actors started their careers on Broadway before making it big in film and television. Here are a few notable examples:\\n\\n1. Sarah Jessica Parker - Before she was Carrie Bradshaw on \"Sex and the City,\" Sarah Jessica Parker was a Broadway star, having appeared in productions like \"Annie\" as a child.\\n\\n2. Meryl Streep - Meryl Streep\\'s early career included Broadway productions such as \"Trelawny of the \\'Wells\\'\" and \"A Memory of Two Mondays / 27 Wagons Full of Cotton.\"\\n\\n3. Hugh Jackman - Hugh Jackman won a Tony Award for his role in \"The Boy from Oz\" and has been known for his stage work as well as his film career.\\n\\n4. Sutton Foster - Known for her television role in \"Younger,\" Sutton Foster is also a Broadway legend with leading roles in shows like \"Thoroughly Modern Millie\" and \"Anything Goes.\"\\n\\n5. Kristen Bell - Before she was the voice of Anna in \"Frozen\" or the star of \"The Good Place,\" Kristen Bell appeared in Broadway\\'s \"The Adventures of Tom Sawyer\" and \"The Crucible.\"\\n\\n6. Audra McDonald - Audra McDonald is a renowned Broadway actress with a record-breaking number of Tony Awards. She\\'s starred in \"Ragtime,\" \"Carousel,\" \"Master Class,\" and more.\\n\\n7. Nathan Lane - Nathan Lane is a Broadway veteran known for his roles in \"The Producers,\" \"A Funny Thing Happened on the Way to the Forum,\" and \"Angels in America.\"\\n\\n8. Idina Menzel - Before \"Frozen\" and \"Wicked\" made her a household name, Idina Menzel started on Broadway in shows like \"Rent\" and \"Hair.\"\\n\\n9. Lin-Manuel Miranda - Before \"Hamilton\" and \"In the Heights\" became huge hits, Lin-Manuel Miranda was performing on Broadway, eventually becoming a celebrated writer and actor.\\n\\n10. Lea Michele - Prior to her role on \"Glee,\" Lea Michele was a young Broadway actress in shows like \"Les Misérables,\" \"Ragtime,\" and \"Spring Awakening.\"\\n\\nThese actors are just a few examples of the many performers who have transitioned from the Broadway stage to broader fame in the entertainment industry. Broadway often serves as a proving ground for talent, and many actors continue to return to the stage throughout their careers.',\n",
       " 'generator': 'gpt4_1106_preview',\n",
       " 'dataset': 'helpful_base',\n",
       " 'index': 0}"
      ]
     },
     "execution_count": 14,
     "metadata": {},
     "output_type": "execute_result"
    }
   ],
   "source": [
    "dataset[0]"
   ]
  },
  {
   "cell_type": "code",
   "execution_count": 22,
   "metadata": {},
   "outputs": [
    {
     "name": "stdout",
     "output_type": "stream",
     "text": [
      "{'question_id': '0', 'answer_id': '0', 'model_id': 'gpt4_1106_preview', 'choices': [{'index': 0, 'turns': [{'content': 'Several famous actors started their careers on Broadway before making it big in film and television. Here are a few notable examples:\\n\\n1. Sarah Jessica Parker - Before she was Carrie Bradshaw on \"Sex and the City,\" Sarah Jessica Parker was a Broadway star, having appeared in productions like \"Annie\" as a child.\\n\\n2. Meryl Streep - Meryl Streep\\'s early career included Broadway productions such as \"Trelawny of the \\'Wells\\'\" and \"A Memory of Two Mondays / 27 Wagons Full of Cotton.\"\\n\\n3. Hugh Jackman - Hugh Jackman won a Tony Award for his role in \"The Boy from Oz\" and has been known for his stage work as well as his film career.\\n\\n4. Sutton Foster - Known for her television role in \"Younger,\" Sutton Foster is also a Broadway legend with leading roles in shows like \"Thoroughly Modern Millie\" and \"Anything Goes.\"\\n\\n5. Kristen Bell - Before she was the voice of Anna in \"Frozen\" or the star of \"The Good Place,\" Kristen Bell appeared in Broadway\\'s \"The Adventures of Tom Sawyer\" and \"The Crucible.\"\\n\\n6. Audra McDonald - Audra McDonald is a renowned Broadway actress with a record-breaking number of Tony Awards. She\\'s starred in \"Ragtime,\" \"Carousel,\" \"Master Class,\" and more.\\n\\n7. Nathan Lane - Nathan Lane is a Broadway veteran known for his roles in \"The Producers,\" \"A Funny Thing Happened on the Way to the Forum,\" and \"Angels in America.\"\\n\\n8. Idina Menzel - Before \"Frozen\" and \"Wicked\" made her a household name, Idina Menzel started on Broadway in shows like \"Rent\" and \"Hair.\"\\n\\n9. Lin-Manuel Miranda - Before \"Hamilton\" and \"In the Heights\" became huge hits, Lin-Manuel Miranda was performing on Broadway, eventually becoming a celebrated writer and actor.\\n\\n10. Lea Michele - Prior to her role on \"Glee,\" Lea Michele was a young Broadway actress in shows like \"Les Misérables,\" \"Ragtime,\" and \"Spring Awakening.\"\\n\\nThese actors are just a few examples of the many performers who have transitioned from the Broadway stage to broader fame in the entertainment industry. Broadway often serves as a proving ground for talent, and many actors continue to return to the stage throughout their careers.', 'token_len': 486}]}]}\n"
     ]
    },
    {
     "name": "stderr",
     "output_type": "stream",
     "text": [
      "Creating json from Arrow format: 100%|██████████| 1/1 [00:00<00:00, 57.12ba/s]\n"
     ]
    },
    {
     "data": {
      "text/plain": [
       "1785984"
      ]
     },
     "execution_count": 22,
     "metadata": {},
     "output_type": "execute_result"
    }
   ],
   "source": [
    "from datasets import load_dataset  \n",
    "from transformers import AutoTokenizer  \n",
    "import hashlib  \n",
    "import time  \n",
    "\n",
    "from datasets import load_dataset\n",
    "def get_alpaca_eval_data(dataset=\"alpaca_eval_gpt4_baseline\"):\n",
    "    dataset = load_dataset(\n",
    "        \"tatsu-lab/alpaca_eval\",\n",
    "        dataset,\n",
    "    )[\"eval\"]\n",
    "    return dataset\n",
    "alpaca_eval = get_alpaca_eval_data()\n",
    "def add_index(example, idx):  \n",
    "    example['index'] = idx  \n",
    "    return example  \n",
    "dataset = alpaca_eval.map(add_index, with_indices=True) \n",
    "# 加载数据集  \n",
    "# dataset = load_dataset('alpaca_eval')  \n",
    "  \n",
    "# 定义一个函数来生成MD5哈希值  \n",
    "def generate_md5(text):  \n",
    "    return hashlib.md5(text.encode('utf-8')).hexdigest()  \n",
    "  \n",
    "# 使用预训练的分词器（例如，BERT的分词器）  \n",
    "tokenizer_path = \"/mnt/lingjiejiang/textual_aesthetics/model_checkpoint/sft_merge_checkpoints/Meta-Llama-3.1-8B-Instruct\" \n",
    "tokenizer = AutoTokenizer.from_pretrained(tokenizer_path)  \n",
    "  \n",
    "# 定义转换函数  \n",
    "def transform_example(example, idx):  \n",
    "    content = example['output']  \n",
    "    tokenized = tokenizer(content)  \n",
    "    token_len = len(tokenized['input_ids'])  \n",
    "      \n",
    "    transformed_example = {  \n",
    "        \"question_id\": str(idx),  \n",
    "        \"answer_id\": str(idx),  \n",
    "        \"model_id\": example['generator'],  \n",
    "        \"choices\": [  \n",
    "            {  \n",
    "                \"index\": 0,  \n",
    "                \"turns\": [  \n",
    "                    {  \n",
    "                        \"content\": content,  \n",
    "                        \"token_len\": token_len  \n",
    "                    }  \n",
    "                ]  \n",
    "            }  \n",
    "        ],  \n",
    "        # \"tstamp\": time.time()  \n",
    "    }  \n",
    "    return transformed_example  \n",
    "  \n",
    "# 对数据集进行转换  \n",
    "transformed_dataset = dataset.map(transform_example, with_indices=True, remove_columns=dataset.column_names)  \n",
    "  \n",
    "# 打印转换后的数据集的前几行  \n",
    "print(transformed_dataset[0])  \n",
    "transformed_dataset.to_json(\"gpt4_1106_preview.jsonl\")\n"
   ]
  },
  {
   "cell_type": "code",
   "execution_count": 19,
   "metadata": {},
   "outputs": [
    {
     "name": "stderr",
     "output_type": "stream",
     "text": [
      "Creating json from Arrow format: 100%|██████████| 1/1 [00:00<00:00, 39.72ba/s]\n"
     ]
    },
    {
     "data": {
      "text/plain": [
       "1785984"
      ]
     },
     "execution_count": 19,
     "metadata": {},
     "output_type": "execute_result"
    }
   ],
   "source": [
    "transformed_dataset.to_json(\"temp_ref.jsonl\")"
   ]
  },
  {
   "cell_type": "code",
   "execution_count": 23,
   "metadata": {},
   "outputs": [
    {
     "name": "stdout",
     "output_type": "stream",
     "text": [
      "{'question_id': '0', 'category': 'alpaca_eval', 'cluster': 'helpful_base', 'turns': [{'content': 'What are the names of some famous actors that started their careers on Broadway?'}]}\n"
     ]
    },
    {
     "name": "stderr",
     "output_type": "stream",
     "text": [
      "Creating json from Arrow format: 100%|██████████| 1/1 [00:00<00:00, 225.80ba/s]\n"
     ]
    },
    {
     "data": {
      "text/plain": [
       "209154"
      ]
     },
     "execution_count": 23,
     "metadata": {},
     "output_type": "execute_result"
    }
   ],
   "source": [
    "from datasets import load_dataset  \n",
    "import hashlib  \n",
    "  \n",
    "# 加载数据集  \n",
    "def get_alpaca_eval_data(dataset=\"alpaca_eval_gpt4_baseline\"):  \n",
    "    dataset = load_dataset(\"tatsu-lab/alpaca_eval\", dataset)[\"eval\"]  \n",
    "    return dataset  \n",
    "  \n",
    "alpaca_eval = get_alpaca_eval_data()  \n",
    "  \n",
    "# 添加索引列  \n",
    "def add_index(example, idx):  \n",
    "    example['index'] = idx  \n",
    "    return example  \n",
    "  \n",
    "questions = alpaca_eval.map(add_index, with_indices=True)  \n",
    "  \n",
    "# 定义转换函数  \n",
    "def transform_example(example, idx):  \n",
    "    transformed_example = {  \n",
    "        \"question_id\": str(idx),  \n",
    "        \"category\": \"alpaca_eval\",  \n",
    "        \"cluster\": example['dataset'],  \n",
    "        \"turns\": [  \n",
    "            {  \n",
    "                \"content\": example['instruction']  \n",
    "            }  \n",
    "        ]  \n",
    "    }  \n",
    "    return transformed_example  \n",
    "  \n",
    "# 对数据集进行转换  \n",
    "transformed_questions = questions.map(transform_example, with_indices=True, remove_columns=dataset.column_names)  \n",
    "  \n",
    "# 打印转换后的数据集的前几行  \n",
    "print(transformed_questions[0])  \n",
    "transformed_questions.to_json(\"question.jsonl\")\n"
   ]
  }
 ],
 "metadata": {
  "kernelspec": {
   "display_name": "eval",
   "language": "python",
   "name": "python3"
  },
  "language_info": {
   "codemirror_mode": {
    "name": "ipython",
    "version": 3
   },
   "file_extension": ".py",
   "mimetype": "text/x-python",
   "name": "python",
   "nbconvert_exporter": "python",
   "pygments_lexer": "ipython3",
   "version": "3.10.14"
  }
 },
 "nbformat": 4,
 "nbformat_minor": 2
}
